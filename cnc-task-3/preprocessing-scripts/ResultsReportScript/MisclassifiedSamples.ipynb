{
 "cells": [
  {
   "cell_type": "code",
   "execution_count": 82,
   "id": "f08209f5",
   "metadata": {},
   "outputs": [],
   "source": [
    "import pickle as pkl\n",
    "import csv \n",
    "import json\n",
    "import sys\n",
    "from dataclasses import dataclass\n",
    "import itertools\n",
    "import torch"
   ]
  },
  {
   "cell_type": "code",
   "execution_count": 83,
   "id": "1b7025ab",
   "metadata": {},
   "outputs": [],
   "source": [
    "@dataclass\n",
    "class LLMPipelineConfig:\n",
    "    run_identifier: str\n",
    "    config_file_path: str\n",
    "    output_folder_path: str\n",
    "    llm_name: str\n",
    "    collate_fn_name: str\n",
    "    device: object\n",
    "    max_epochs: int\n",
    "    hparams: list\n",
    "\n",
    "def generate_config_dict(config_file_path):\n",
    "    config_dict = {}\n",
    "    with open(config_file_path) as f:\n",
    "        for line in f:\n",
    "            line = line.split(\":\")\n",
    "            config_dict[line[0].strip()] = line[1].strip()\n",
    "    config_dict['config_file_path'] = config_file_path\n",
    "    return config_dict\n",
    "    \n",
    "    \n",
    "def generate_hyperparameter_sets(config_dict):\n",
    "    lf = config_dict['loss_functions'].split(',')\n",
    "    lr = [float(lr.strip()) for lr in config_dict['learning_rates'].split(',')]\n",
    "    bs = [int(bs.strip()) for bs in config_dict['batch_sizes'].split('.')]\n",
    "    op = [op.strip() for op in config_dict['optimizers'].split(',')]\n",
    "    hdo = [float(lr.strip()) for lr in config_dict['hidden_dropout_prob'].split(',')]\n",
    "    ado = [float(lr.strip()) for lr in config_dict['attention_probs_dropout_prob'].split(',')]\n",
    "    hparams = []\n",
    "    for loss_function, learning_rate, batch_size, optimizer, hidden_dropout_prob, attention_probs_dropout_prob in itertools.product(\n",
    "            lf, lr, bs, op, hdo, ado):\n",
    "        hparams.append({\n",
    "            'loss_function': loss_function,\n",
    "            'learning_rate': learning_rate,\n",
    "            'batch_size': batch_size,\n",
    "            'optimizer': optimizer,\n",
    "            'hidden_dropout_prob': hidden_dropout_prob,\n",
    "            'attention_probs_dropout_prob': attention_probs_dropout_prob\n",
    "        })\n",
    "    return hparams\n",
    "\n",
    "\n",
    "def config_obj_from_config_dict(config_dict):\n",
    "    hparams = generate_hyperparameter_sets(config_dict)\n",
    "    device = torch.device(\"cuda\" if torch.cuda.is_available() else \"cpu\")\n",
    "    return LLMPipelineConfig(config_dict['run_identifier'],\n",
    "                             config_dict['config_file_path'],\n",
    "                             config_dict[\"output_folder_path\"],\n",
    "                             config_dict['llm_name'],\n",
    "                             config_dict['collate_fn_name'],\n",
    "                             device,\n",
    "                             int(config_dict['max_epochs']),\n",
    "                             hparams)\n",
    "\n",
    "\n",
    "def misclassified_samples_csv_to_dict(path):\n",
    "    false_positives = []\n",
    "    false_negatives = []\n",
    "    with open(path) as f:\n",
    "        csvreader = csv.reader(f)\n",
    "        for row in csvreader:\n",
    "            if row[2] == '0':\n",
    "                false_positives.append(row[0])\n",
    "            elif row[2] == '1':\n",
    "                false_negatives.append(row[0])\n",
    "        return false_positives, false_negatives    \n",
    "    \n",
    "\n",
    "def identify_file_paths_for_misclassified_samples(path):\n",
    "    config_dict = generate_config_dict(path)\n",
    "    config_obj = config_obj_from_config_dict(config_dict)"
   ]
  },
  {
   "cell_type": "code",
   "execution_count": 68,
   "id": "c08b0104",
   "metadata": {},
   "outputs": [],
   "source": [
    "path = '/home/nadia/Desktop/runs/bert-base-uncased-baseline/config.txt'"
   ]
  },
  {
   "cell_type": "code",
   "execution_count": 48,
   "id": "7f03da9f",
   "metadata": {},
   "outputs": [],
   "source": [
    "false_positives, false_negatives = misclassified_samples_csv_to_dict(path)"
   ]
  },
  {
   "cell_type": "code",
   "execution_count": 84,
   "id": "7cb57bcb",
   "metadata": {},
   "outputs": [
    {
     "name": "stderr",
     "output_type": "stream",
     "text": [
      "/home/nadia/miniconda3/envs/ctre/lib/python3.9/site-packages/torch/cuda/__init__.py:82: UserWarning: CUDA initialization: CUDA unknown error - this may be due to an incorrectly set up environment, e.g. changing env variable CUDA_VISIBLE_DEVICES after program start. Setting the available devices to be zero. (Triggered internally at  ../c10/cuda/CUDAFunctions.cpp:112.)\n",
      "  return torch._C._cuda_getDeviceCount() > 0\n"
     ]
    },
    {
     "ename": "KeyError",
     "evalue": "'collate_fn_name'",
     "output_type": "error",
     "traceback": [
      "\u001b[0;31m---------------------------------------------------------------------------\u001b[0m",
      "\u001b[0;31mKeyError\u001b[0m                                  Traceback (most recent call last)",
      "Input \u001b[0;32mIn [84]\u001b[0m, in \u001b[0;36m<cell line: 1>\u001b[0;34m()\u001b[0m\n\u001b[0;32m----> 1\u001b[0m \u001b[43midentify_file_paths_for_misclassified_samples\u001b[49m\u001b[43m(\u001b[49m\u001b[43mpath\u001b[49m\u001b[43m)\u001b[49m\n",
      "Input \u001b[0;32mIn [83]\u001b[0m, in \u001b[0;36midentify_file_paths_for_misclassified_samples\u001b[0;34m(path)\u001b[0m\n\u001b[1;32m     69\u001b[0m \u001b[38;5;28;01mdef\u001b[39;00m \u001b[38;5;21midentify_file_paths_for_misclassified_samples\u001b[39m(path):\n\u001b[1;32m     70\u001b[0m     config_dict \u001b[38;5;241m=\u001b[39m generate_config_dict(path)\n\u001b[0;32m---> 71\u001b[0m     config_obj \u001b[38;5;241m=\u001b[39m \u001b[43mconfig_obj_from_config_dict\u001b[49m\u001b[43m(\u001b[49m\u001b[43mconfig_dict\u001b[49m\u001b[43m)\u001b[49m\n",
      "Input \u001b[0;32mIn [83]\u001b[0m, in \u001b[0;36mconfig_obj_from_config_dict\u001b[0;34m(config_dict)\u001b[0m\n\u001b[1;32m     44\u001b[0m hparams \u001b[38;5;241m=\u001b[39m generate_hyperparameter_sets(config_dict)\n\u001b[1;32m     45\u001b[0m device \u001b[38;5;241m=\u001b[39m torch\u001b[38;5;241m.\u001b[39mdevice(\u001b[38;5;124m\"\u001b[39m\u001b[38;5;124mcuda\u001b[39m\u001b[38;5;124m\"\u001b[39m \u001b[38;5;28;01mif\u001b[39;00m torch\u001b[38;5;241m.\u001b[39mcuda\u001b[38;5;241m.\u001b[39mis_available() \u001b[38;5;28;01melse\u001b[39;00m \u001b[38;5;124m\"\u001b[39m\u001b[38;5;124mcpu\u001b[39m\u001b[38;5;124m\"\u001b[39m)\n\u001b[1;32m     46\u001b[0m \u001b[38;5;28;01mreturn\u001b[39;00m LLMPipelineConfig(config_dict[\u001b[38;5;124m'\u001b[39m\u001b[38;5;124mrun_identifier\u001b[39m\u001b[38;5;124m'\u001b[39m],\n\u001b[1;32m     47\u001b[0m                          config_dict[\u001b[38;5;124m'\u001b[39m\u001b[38;5;124mconfig_file_path\u001b[39m\u001b[38;5;124m'\u001b[39m],\n\u001b[1;32m     48\u001b[0m                          config_dict[\u001b[38;5;124m\"\u001b[39m\u001b[38;5;124moutput_folder_path\u001b[39m\u001b[38;5;124m\"\u001b[39m],\n\u001b[1;32m     49\u001b[0m                          config_dict[\u001b[38;5;124m'\u001b[39m\u001b[38;5;124mllm_name\u001b[39m\u001b[38;5;124m'\u001b[39m],\n\u001b[0;32m---> 50\u001b[0m                          \u001b[43mconfig_dict\u001b[49m\u001b[43m[\u001b[49m\u001b[38;5;124;43m'\u001b[39;49m\u001b[38;5;124;43mcollate_fn_name\u001b[39;49m\u001b[38;5;124;43m'\u001b[39;49m\u001b[43m]\u001b[49m,\n\u001b[1;32m     51\u001b[0m                          device,\n\u001b[1;32m     52\u001b[0m                          \u001b[38;5;28mint\u001b[39m(config_dict[\u001b[38;5;124m'\u001b[39m\u001b[38;5;124mmax_epochs\u001b[39m\u001b[38;5;124m'\u001b[39m]),\n\u001b[1;32m     53\u001b[0m                          hparams)\n",
      "\u001b[0;31mKeyError\u001b[0m: 'collate_fn_name'"
     ]
    }
   ],
   "source": [
    "identify_file_paths_for_misclassified_samples(path)"
   ]
  },
  {
   "cell_type": "code",
   "execution_count": null,
   "id": "7c7d064f",
   "metadata": {},
   "outputs": [],
   "source": []
  }
 ],
 "metadata": {
  "kernelspec": {
   "display_name": "Python 3 (ipykernel)",
   "language": "python",
   "name": "python3"
  },
  "language_info": {
   "codemirror_mode": {
    "name": "ipython",
    "version": 3
   },
   "file_extension": ".py",
   "mimetype": "text/x-python",
   "name": "python",
   "nbconvert_exporter": "python",
   "pygments_lexer": "ipython3",
   "version": "3.9.12"
  }
 },
 "nbformat": 4,
 "nbformat_minor": 5
}
